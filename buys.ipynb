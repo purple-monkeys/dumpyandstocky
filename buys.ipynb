{
 "cells": [
  {
   "cell_type": "markdown",
   "id": "95ef420d",
   "metadata": {
    "toc": true
   },
   "source": [
    "<h1>Table of Contents<span class=\"tocSkip\"></span></h1>\n",
    "<div class=\"toc\"><ul class=\"toc-item\"><li><ul class=\"toc-item\"><li><span><a href=\"#Imports\" data-toc-modified-id=\"Imports-0.1\"><span class=\"toc-item-num\">0.1&nbsp;&nbsp;</span>Imports</a></span></li></ul></li><li><span><a href=\"#Time-Program\" data-toc-modified-id=\"Time-Program-1\"><span class=\"toc-item-num\">1&nbsp;&nbsp;</span>Time Program</a></span></li><li><span><a href=\"#Historical-Price-Program\" data-toc-modified-id=\"Historical-Price-Program-2\"><span class=\"toc-item-num\">2&nbsp;&nbsp;</span>Historical Price Program</a></span></li><li><span><a href=\"#Gather-File\" data-toc-modified-id=\"Gather-File-3\"><span class=\"toc-item-num\">3&nbsp;&nbsp;</span>Gather File</a></span></li></ul></div>"
   ]
  },
  {
   "cell_type": "markdown",
   "id": "d6f87dd6",
   "metadata": {},
   "source": [
    "### Imports"
   ]
  },
  {
   "cell_type": "code",
   "execution_count": 11,
   "id": "0f9da768",
   "metadata": {},
   "outputs": [],
   "source": [
    "import numpy as np\n",
    "import pandas as pd\n",
    "import matplotlib.pyplot as plt\n",
    "import os\n",
    "import time\n",
    "from datetime import datetime\n",
    "import argparse"
   ]
  },
  {
   "cell_type": "markdown",
   "id": "7cefe5f5-3060-4d40-ad9c-3dd95a634fe3",
   "metadata": {},
   "source": [
    "## Time Program"
   ]
  },
  {
   "cell_type": "code",
   "execution_count": 100,
   "id": "cd993d19",
   "metadata": {},
   "outputs": [],
   "source": [
    "def timestamp(year, month, day):\n",
    "    dt = datetime(year, month, day)\n",
    "    # epoch time\n",
    "    epoch_time = datetime(1970, 1, 1)\n",
    "\n",
    "    # subtract Datetime from epoch datetime\n",
    "    delta = (dt - epoch_time)\n",
    "    y = int(delta.total_seconds())\n",
    "    return y"
   ]
  },
  {
   "cell_type": "markdown",
   "id": "9dfdc6af",
   "metadata": {},
   "source": [
    "## Historical Price Program"
   ]
  },
  {
   "cell_type": "code",
   "execution_count": 101,
   "id": "fceb4632",
   "metadata": {},
   "outputs": [],
   "source": [
    "def download_stock_historical_price(ticker, startdate, enddate, interval, \n",
    "                                    include_AdjustedClose=True):\n",
    "    try: \n",
    "        data_file_name = f'{ticker}_{startdate}_{enddate}_{interval}.csv'\n",
    "        base_url = 'https://query1.finance.yahoo.com/v7/finance/download/'\n",
    "        url = f'{base_url}{ticker}?period1={startdate}&period2={enddate}&interval={interval}&events=history&includeAdjustedClose=true'\n",
    "        print(f'Downloading file from URL: {url}')\n",
    "        pd.read_csv(url)\n",
    "        df.to_csv(os.path.join(os.getcwd(), data_file_name))\n",
    "        print('File download complete')\n",
    "    except Exception as e:\n",
    "        print(e)"
   ]
  },
  {
   "cell_type": "markdown",
   "id": "0e64c047",
   "metadata": {},
   "source": [
    "## Gather File"
   ]
  },
  {
   "cell_type": "code",
   "execution_count": 107,
   "id": "9c52d70f",
   "metadata": {},
   "outputs": [
    {
     "name": "stdout",
     "output_type": "stream",
     "text": [
      "Downloading file from URL: https://query1.finance.yahoo.com/v7/finance/download/TSLA?period1=1688601600&period2=1688688000&interval=1d&events=history&includeAdjustedClose=true\n",
      "name 'df' is not defined\n"
     ]
    }
   ],
   "source": [
    "startdate = timestamp(2023,7,6)\n",
    "enddate = timestamp(2023,7,7)\n",
    "download_stock_historical_price('TSLA', startdate, enddate, '1d', \n",
    "                                    include_AdjustedClose=True)"
   ]
  },
  {
   "cell_type": "code",
   "execution_count": 98,
   "id": "05c3b294",
   "metadata": {},
   "outputs": [
    {
     "name": "stdout",
     "output_type": "stream",
     "text": [
      "{None}\n"
     ]
    }
   ],
   "source": []
  },
  {
   "cell_type": "code",
   "execution_count": 41,
   "id": "ac2811c6",
   "metadata": {},
   "outputs": [
    {
     "name": "stdout",
     "output_type": "stream",
     "text": [
      "Downloading file from URL: https://query1.finance.yahoo.com/v7/finance/download/TSLA?period1=1688619600&period2=1688619600&interval=1d&events=history&includeAdjustedClose=true\n",
      "HTTP Error 404: Not Found\n"
     ]
    }
   ],
   "source": [
    "download_stock_historical_price('TSLA', '2023-7-6', '2023-7-7', '1d', True)"
   ]
  },
  {
   "cell_type": "code",
   "execution_count": 10,
   "id": "f8e6f2cb-d442-4d25-a0df-235da7561e2b",
   "metadata": {},
   "outputs": [
    {
     "ename": "NameError",
     "evalue": "name 'HistoricalData' is not defined",
     "output_type": "error",
     "traceback": [
      "\u001b[0;31m---------------------------------------------------------------------------\u001b[0m",
      "\u001b[0;31mNameError\u001b[0m                                 Traceback (most recent call last)",
      "\u001b[0;32m<ipython-input-10-02864db50d97>\u001b[0m in \u001b[0;36m<module>\u001b[0;34m\u001b[0m\n\u001b[0;32m----> 1\u001b[0;31m dataset = HistoricalData(start_date = '2023-06-06',\n\u001b[0m\u001b[1;32m      2\u001b[0m                         \u001b[0mend_date\u001b[0m \u001b[0;34m=\u001b[0m \u001b[0;34m'2023-06-08'\u001b[0m\u001b[0;34m,\u001b[0m\u001b[0;34m\u001b[0m\u001b[0;34m\u001b[0m\u001b[0m\n\u001b[1;32m      3\u001b[0m                         ticker = 'BTC').retrieve_data()\n",
      "\u001b[0;31mNameError\u001b[0m: name 'HistoricalData' is not defined"
     ]
    }
   ],
   "source": [
    "https://query1.finance.yahoo.com/v7/finance/download/TSLA?period1=1688601600&period2=1688688000&interval=1d&events=history&includeAdjustedClose=true"
   ]
  },
  {
   "cell_type": "code",
   "execution_count": null,
   "id": "eb077af6-bc4a-4b48-a2b2-89e003d4ae01",
   "metadata": {},
   "outputs": [],
   "source": []
  }
 ],
 "metadata": {
  "kernelspec": {
   "display_name": "Python (learn-env)",
   "language": "python",
   "name": "learn-env"
  },
  "language_info": {
   "codemirror_mode": {
    "name": "ipython",
    "version": 3
   },
   "file_extension": ".py",
   "mimetype": "text/x-python",
   "name": "python",
   "nbconvert_exporter": "python",
   "pygments_lexer": "ipython3",
   "version": "3.8.5"
  },
  "toc": {
   "base_numbering": 1,
   "nav_menu": {},
   "number_sections": true,
   "sideBar": true,
   "skip_h1_title": false,
   "title_cell": "Table of Contents",
   "title_sidebar": "Contents",
   "toc_cell": true,
   "toc_position": {},
   "toc_section_display": true,
   "toc_window_display": true
  }
 },
 "nbformat": 4,
 "nbformat_minor": 5
}
